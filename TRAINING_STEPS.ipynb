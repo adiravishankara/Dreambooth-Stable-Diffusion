{
 "cells": [
  {
   "cell_type": "code",
   "execution_count": null,
   "metadata": {
    "collapsed": true,
    "pycharm": {
     "name": "#%%\n"
    }
   },
   "outputs": [],
   "source": [
    "#!conda env create -f environment.yaml\n"
   ]
  },
  {
   "cell_type": "code",
   "execution_count": null,
   "outputs": [],
   "source": [
    "!conda activate ldm\n",
    "#if you get the distutils has not attribute version error\n",
    "!pip install setuptools==59.5.0"
   ],
   "metadata": {
    "collapsed": false,
    "pycharm": {
     "name": "#%%\n"
    }
   }
  },
  {
   "cell_type": "code",
   "execution_count": null,
   "outputs": [],
   "source": [
    "!pip install wget\n",
    "## FOR THE ORIGINAL VERSION\n",
    "!wget --http-user={} --http-password={} https://huggingface.co/CompVis/stable-diffusion-v-1-4-original/resolve/main/sd-v1-4.ckpt\n",
    "\n",
    "## FOR THE FULL EMA VERSION\n",
    "# !wget --http-user={} --http-password={} https://huggingface.co/CompVis/stable-diffusion-v-1-4-original/resolve/main/sd-v1-4-full-ema.ckpt"
   ],
   "metadata": {
    "collapsed": false,
    "pycharm": {
     "name": "#%%\n"
    }
   }
  },
  {
   "cell_type": "code",
   "execution_count": null,
   "outputs": [],
   "source": [
    "!mv sd-v1-4.ckpt model.ckpt"
   ],
   "metadata": {
    "collapsed": false,
    "pycharm": {
     "name": "#%%\n"
    }
   }
  },
  {
   "cell_type": "code",
   "execution_count": null,
   "outputs": [],
   "source": [
    "!apt install -y unzip\n",
    "!unzip regularization.zip\n",
    "!uzip training_samples.zip"
   ],
   "metadata": {
    "collapsed": false,
    "pycharm": {
     "name": "#%%\n"
    }
   }
  },
  {
   "cell_type": "code",
   "execution_count": null,
   "outputs": [],
   "source": [
    "# START THE TRAINING\n",
    "project_name = \"PM-Aiyana\"\n",
    "\n",
    "# MAX STEPS\n",
    "# It's how long you want your training to go.\n",
    "# If you're seeing this message, I'm literally at my computer right now fixing this up:\n",
    "max_training_steps = 1500\n",
    "\n",
    "class_word = \"woman\"  # << match this word to the class word from regularization images above\n",
    "reg_data_root = \"/workspace/Dreambooth-Stable-Diffusion/regularization/woman_ddim\"\n",
    "\n",
    "try:\n",
    "    !rm -rf training_samples/.ipynb_checkpoints\n",
    "except FileNotFoundError:\n",
    "    print(\"No checkpoints for ipynb\")\n",
    "!python \"main.py\"\n",
    "    --base configs/stable-diffusion/v1-finetune_unfrozen.yaml\n",
    "    -t\n",
    "    --actual_resume \"model.ckpt\"\n",
    "    --reg_data_root {reg_data_root}\n",
    "    -n {project_name}\n",
    "    --gpus 0,\n",
    "    --data_root \"/workspace/Dreambooth-Stable-Diffusion/training_samples\"\n",
    "    --max_training_steps {max_training_steps}\n",
    "    --class_word class_word\n",
    "    --no-test"
   ],
   "metadata": {
    "collapsed": false,
    "pycharm": {
     "name": "#%%\n"
    }
   }
  },
  {
   "cell_type": "code",
   "execution_count": null,
   "outputs": [],
   "source": [
    "directory_paths = !ls -d logs/*\n"
   ],
   "metadata": {
    "collapsed": false,
    "pycharm": {
     "name": "#%%\n"
    }
   }
  },
  {
   "cell_type": "code",
   "execution_count": null,
   "outputs": [],
   "source": [
    "# This version should automatically prune around 10GB from the ckpt file\n",
    "last_checkpoint_file = directory_paths[-1] + \"/checkpoints/last.ckpt\"\n",
    "!python \"prune_ckpt.py\" --ckpt {last_checkpoint_file}"
   ],
   "metadata": {
    "collapsed": false,
    "pycharm": {
     "name": "#%%\n"
    }
   }
  },
  {
   "cell_type": "code",
   "execution_count": null,
   "outputs": [],
   "source": [
    "last_checkpoint_file_pruned = directory_paths[-1] + \"/checkpoints/last-pruned.ckpt\"\n",
    "training_samples = !ls training_samples\n",
    "date_string = !date +\"%Y-%m-%dT%H-%M-%S\"\n",
    "file_name = date_string[-1] + \"_\" + project_name + \"_\" + str(len(training_samples)) + \"_training_images_\" +  str(max_training_steps) + \"_max_training_steps_\" + class_word + \"_class_word.ckpt\"\n",
    "!mkdir -p trained_models\n",
    "!mv {last_checkpoint_file_pruned} trained_models/{file_name}"
   ],
   "metadata": {
    "collapsed": false,
    "pycharm": {
     "name": "#%%\n"
    }
   }
  }
 ],
 "metadata": {
  "kernelspec": {
   "display_name": "Python 3",
   "language": "python",
   "name": "python3"
  },
  "language_info": {
   "codemirror_mode": {
    "name": "ipython",
    "version": 2
   },
   "file_extension": ".py",
   "mimetype": "text/x-python",
   "name": "python",
   "nbconvert_exporter": "python",
   "pygments_lexer": "ipython2",
   "version": "2.7.6"
  }
 },
 "nbformat": 4,
 "nbformat_minor": 0
}